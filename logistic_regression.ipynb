{
  "nbformat": 4,
  "nbformat_minor": 0,
  "metadata": {
    "colab": {
      "provenance": [],
      "authorship_tag": "ABX9TyPpYuOQLiZ4+doWAHMRc6VI",
      "include_colab_link": true
    },
    "kernelspec": {
      "name": "python3",
      "display_name": "Python 3"
    },
    "language_info": {
      "name": "python"
    }
  },
  "cells": [
    {
      "cell_type": "markdown",
      "metadata": {
        "id": "view-in-github",
        "colab_type": "text"
      },
      "source": [
        "<a href=\"https://colab.research.google.com/github/haruka-inb/pytorch_practice/blob/main/logistic_regression.ipynb\" target=\"_parent\"><img src=\"https://colab.research.google.com/assets/colab-badge.svg\" alt=\"Open In Colab\"/></a>"
      ]
    },
    {
      "cell_type": "markdown",
      "source": [
        "# Logistic Regression"
      ],
      "metadata": {
        "id": "XEGQIH_Pqos5"
      }
    },
    {
      "cell_type": "code",
      "execution_count": null,
      "metadata": {
        "id": "WdpkNxdGoKSQ"
      },
      "outputs": [],
      "source": [
        "import torch\n",
        "import torch.nn as nn\n",
        "import torchvision\n",
        "import torchvision.transforms as transforms"
      ]
    },
    {
      "cell_type": "code",
      "source": [
        "# define hyper parameters\n",
        "input_size = 28*28 #784\n",
        "num_classes = 10\n",
        "num_epochs = 5\n",
        "batch_size = 100\n",
        "learning_rate = 0.001\n",
        "\n",
        "# load MNIST dataset\n",
        "transform = transforms.Compose([transforms.ToTensor()])\n",
        "\n",
        "train_set = torchvision.datasets.MNIST(root=\"../../data\", train=True,\n",
        "                                       download=True, transform=transform)\n",
        "test_set = torchvision.datasets.MNIST(root=\"../../data\", train=False,\n",
        "                                      download=True, transform=transform)\n",
        "\n",
        "# create data loader\n",
        "train_loader = torch.utils.data.DataLoader(train_set, batch_size=batch_size,\n",
        "                                           shuffle=True, num_workers=2)\n",
        "test_loader = torch.utils.data.DataLoader(test_set, batch_size=batch_size,\n",
        "                                          shuffle=True, num_workers=2)\n",
        "\n",
        "# define logistic regression model\n",
        "model = nn.Linear(input_size, num_classes)\n",
        "\n",
        "# loss and optimizer\n",
        "criteria = nn.CrossEntropyLoss()\n",
        "optimizer = torch.optim.SGD(model.parameters(), lr=learning_rate)\n",
        "\n",
        "# train the model\n",
        "for e in range(num_epochs):\n",
        "  for i, (images, labels) in enumerate(train_loader):\n",
        "    # reshape images to (batch_size, input_size)\n",
        "    images = images.view(-1, input_size)\n",
        "\n",
        "    # forward pass\n",
        "    outputs = model(images)\n",
        "    loss = criteria(outputs, labels)\n",
        "\n",
        "    # backward and optimize\n",
        "    optimizer.zero_grad()\n",
        "    loss.backward()\n",
        "    optimizer.step()\n",
        "\n",
        "    if (i+1) % 100 == 0:\n",
        "      print(\"{}/{} epochs, {}/{} steps, trainig loss is {}\"\n",
        "      .format(e+1, num_epochs, i+1, len(train_loader), loss.item()))\n",
        "\n",
        "# test the mode\n",
        "with torch.no_grad():\n",
        "  correct = 0\n",
        "  total = 0\n",
        "  for images, labels in test_loader:\n",
        "    images = images.view(-1, input_size)\n",
        "    outputs = model(images)\n",
        "    _, pred = torch.max(outputs, 1)\n",
        "    accuracy = (pred==labels).sum()\n",
        "\n",
        "  print(\"Accuracy is {}\".format(100*accuracy/len(test_loader)))\n",
        "\n",
        "# save the model checkpoint\n",
        "torch.save(model.state_dict(), \"params.ckpt\")"
      ],
      "metadata": {
        "colab": {
          "base_uri": "https://localhost:8080/"
        },
        "id": "y3S-nAaxqsea",
        "outputId": "14214caf-291a-4315-cd44-d380e9d926ef"
      },
      "execution_count": null,
      "outputs": [
        {
          "output_type": "stream",
          "name": "stdout",
          "text": [
            "1/5 epochs, 100/600 steps, trainig loss is 2.202725410461426\n",
            "1/5 epochs, 200/600 steps, trainig loss is 2.120251417160034\n",
            "1/5 epochs, 300/600 steps, trainig loss is 2.0448367595672607\n",
            "1/5 epochs, 400/600 steps, trainig loss is 1.9389876127243042\n",
            "1/5 epochs, 500/600 steps, trainig loss is 1.8695907592773438\n",
            "1/5 epochs, 600/600 steps, trainig loss is 1.8463784456253052\n",
            "2/5 epochs, 100/600 steps, trainig loss is 1.7538074254989624\n",
            "2/5 epochs, 200/600 steps, trainig loss is 1.580174446105957\n",
            "2/5 epochs, 300/600 steps, trainig loss is 1.5820618867874146\n",
            "2/5 epochs, 400/600 steps, trainig loss is 1.510404348373413\n",
            "2/5 epochs, 500/600 steps, trainig loss is 1.477083444595337\n",
            "2/5 epochs, 600/600 steps, trainig loss is 1.4749706983566284\n",
            "3/5 epochs, 100/600 steps, trainig loss is 1.4584991931915283\n",
            "3/5 epochs, 200/600 steps, trainig loss is 1.3709690570831299\n",
            "3/5 epochs, 300/600 steps, trainig loss is 1.3760764598846436\n",
            "3/5 epochs, 400/600 steps, trainig loss is 1.370939016342163\n",
            "3/5 epochs, 500/600 steps, trainig loss is 1.2851790189743042\n",
            "3/5 epochs, 600/600 steps, trainig loss is 1.2706215381622314\n",
            "4/5 epochs, 100/600 steps, trainig loss is 1.3048579692840576\n",
            "4/5 epochs, 200/600 steps, trainig loss is 1.1907780170440674\n",
            "4/5 epochs, 300/600 steps, trainig loss is 1.1338026523590088\n",
            "4/5 epochs, 400/600 steps, trainig loss is 1.0877307653427124\n",
            "4/5 epochs, 500/600 steps, trainig loss is 1.1269373893737793\n",
            "4/5 epochs, 600/600 steps, trainig loss is 1.1966369152069092\n",
            "5/5 epochs, 100/600 steps, trainig loss is 0.9481074810028076\n",
            "5/5 epochs, 200/600 steps, trainig loss is 1.014357566833496\n",
            "5/5 epochs, 300/600 steps, trainig loss is 1.1007897853851318\n",
            "5/5 epochs, 400/600 steps, trainig loss is 0.9473803639411926\n",
            "5/5 epochs, 500/600 steps, trainig loss is 1.0568333864212036\n",
            "5/5 epochs, 600/600 steps, trainig loss is 0.974317193031311\n",
            "Accuracy is 86.0\n"
          ]
        }
      ]
    }
  ]
}