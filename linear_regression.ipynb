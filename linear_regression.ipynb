{
  "nbformat": 4,
  "nbformat_minor": 0,
  "metadata": {
    "colab": {
      "provenance": [],
      "authorship_tag": "ABX9TyOFnl3duh0do2y2J2cijuBW",
      "include_colab_link": true
    },
    "kernelspec": {
      "name": "python3",
      "display_name": "Python 3"
    },
    "language_info": {
      "name": "python"
    }
  },
  "cells": [
    {
      "cell_type": "markdown",
      "metadata": {
        "id": "view-in-github",
        "colab_type": "text"
      },
      "source": [
        "<a href=\"https://colab.research.google.com/github/haruka-inb/pytorch_practice/blob/main/linear_regression.ipynb\" target=\"_parent\"><img src=\"https://colab.research.google.com/assets/colab-badge.svg\" alt=\"Open In Colab\"/></a>"
      ]
    },
    {
      "cell_type": "markdown",
      "source": [
        "# Linear Regression  "
      ],
      "metadata": {
        "id": "tolkqCVSfimH"
      }
    },
    {
      "cell_type": "code",
      "execution_count": null,
      "metadata": {
        "id": "2g2nxdkJbiSr"
      },
      "outputs": [],
      "source": [
        "import torch\n",
        "import torch.nn as nn\n",
        "import numpy as np\n",
        "import matplotlib.pyplot as plt"
      ]
    },
    {
      "cell_type": "code",
      "source": [
        "# define hyper parameters\n",
        "input_size = 1\n",
        "output_size = 1\n",
        "epochs = 20\n",
        "learning_rate = 0.001\n",
        "\n",
        "# toy dataset\n",
        "x_train = np.array([[3.3], [4.4], [5.5], [6.71], [6.93], [4.168],\n",
        "                    [9.779], [6.182], [7.59], [2.167], [7.042],\n",
        "                    [10.791], [5.313], [7.997], [3.1]], dtype=np.float32)\n",
        "\n",
        "y_train = np.array([[1.7], [2.76], [2.09], [3.19], [1.694], [1.573],\n",
        "                    [3.366], [2.596], [2.53], [1.221], [2.827],\n",
        "                    [3.465], [1.65], [2.904], [1.3]], dtype=np.float32)\n",
        "\n",
        "# linear regression model\n",
        "model = nn.Linear(input_size, output_size)\n",
        "\n",
        "# loss and optimizer\n",
        "criteria = nn.MSELoss()\n",
        "optimizer = torch.optim.SGD(model.parameters(), lr=learning_rate)\n",
        "\n",
        "# train the model\n",
        "for e in range(epochs):\n",
        "  # convert numpy arrays to torch tensors\n",
        "  inputs = torch.from_numpy(x_train)\n",
        "  targets = torch.from_numpy(y_train)\n",
        "\n",
        "  # forward pass\n",
        "  outputs = model(inputs)\n",
        "  loss = criteria(outputs, targets)\n",
        "\n",
        "  # backward and optimize\n",
        "  optimizer.zero_grad()\n",
        "  loss.backward()\n",
        "  optimizer.step()\n",
        "\n",
        "  print(\"{}/{} epochs, training loss is {}\".format(e+1, epochs, loss.item()))\n",
        "\n",
        "# plot the graph\n",
        "pred = model(torch.from_numpy(x_train)).detach().numpy()\n",
        "plt.plot(x_train, y_train, 'ro', label='Original data')\n",
        "plt.plot(x_train, pred, label='Fitted line')\n",
        "plt.legend()\n",
        "plt.show()\n",
        "\n",
        "\n",
        "# save the model checkpoint\n",
        "torch.save(model.state_dict(), 'param.ckpt')"
      ],
      "metadata": {
        "id": "tTpaAkLrbw5y",
        "colab": {
          "base_uri": "https://localhost:8080/",
          "height": 788
        },
        "outputId": "06e905ba-d8a9-44e0-bb26-38d22bb57c29"
      },
      "execution_count": null,
      "outputs": [
        {
          "output_type": "stream",
          "name": "stdout",
          "text": [
            "1/20 epochs, training loss is 4.703972816467285\n",
            "2/20 epochs, training loss is 3.9611051082611084\n",
            "3/20 epochs, training loss is 3.3410520553588867\n",
            "4/20 epochs, training loss is 2.8235063552856445\n",
            "5/20 epochs, training loss is 2.391522169113159\n",
            "6/20 epochs, training loss is 2.0309534072875977\n",
            "7/20 epochs, training loss is 1.729993462562561\n",
            "8/20 epochs, training loss is 1.478786826133728\n",
            "9/20 epochs, training loss is 1.269108533859253\n",
            "10/20 epochs, training loss is 1.0940920114517212\n",
            "11/20 epochs, training loss is 0.9480070471763611\n",
            "12/20 epochs, training loss is 0.8260706067085266\n",
            "13/20 epochs, training loss is 0.7242900729179382\n",
            "14/20 epochs, training loss is 0.6393333077430725\n",
            "15/20 epochs, training loss is 0.5684184432029724\n",
            "16/20 epochs, training loss is 0.5092243552207947\n",
            "17/20 epochs, training loss is 0.4598131775856018\n",
            "18/20 epochs, training loss is 0.41856756806373596\n",
            "19/20 epochs, training loss is 0.384137362241745\n",
            "20/20 epochs, training loss is 0.35539597272872925\n"
          ]
        },
        {
          "output_type": "display_data",
          "data": {
            "text/plain": [
              "<Figure size 640x480 with 1 Axes>"
            ],
            "image/png": "[encoded data removed]"
          },
          "metadata": {}
        }
      ]
    }
  ]
}