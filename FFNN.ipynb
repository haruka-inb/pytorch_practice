{
  "nbformat": 4,
  "nbformat_minor": 0,
  "metadata": {
    "colab": {
      "provenance": [],
      "gpuType": "T4",
      "authorship_tag": "ABX9TyPh1g3ORr4ARGJfMXTd+0qR",
      "include_colab_link": true
    },
    "kernelspec": {
      "name": "python3",
      "display_name": "Python 3"
    },
    "language_info": {
      "name": "python"
    },
    "accelerator": "GPU"
  },
  "cells": [
    {
      "cell_type": "markdown",
      "metadata": {
        "id": "view-in-github",
        "colab_type": "text"
      },
      "source": [
        "<a href=\"https://colab.research.google.com/github/haruka-inb/pytorch_practice/blob/main/FFNN.ipynb\" target=\"_parent\"><img src=\"https://colab.research.google.com/assets/colab-badge.svg\" alt=\"Open In Colab\"/></a>"
      ]
    },
    {
      "cell_type": "markdown",
      "source": [
        "# Feed Forward Neural Network"
      ],
      "metadata": {
        "id": "IDhuUNk_7PYs"
      }
    },
    {
      "cell_type": "code",
      "execution_count": null,
      "metadata": {
        "id": "Vsf4r07iKRCm"
      },
      "outputs": [],
      "source": [
        "import torch\n",
        "import torch.nn as nn\n",
        "import torchvision\n",
        "import torchvision.transforms as transforms"
      ]
    },
    {
      "cell_type": "code",
      "source": [
        "# device configuration\n",
        "device = torch.device(\"cuda\" if torch.cuda.is_available() else \"cpu\")\n",
        "\n",
        "# define hyper parameters\n",
        "input_size = 28*28\n",
        "hidden_size = 500\n",
        "num_classes = 10\n",
        "num_epochs = 5\n",
        "batch_size = 100\n",
        "learning_rate = 0.001\n",
        "\n",
        "# load MNIST dataset\n",
        "transform = transforms.Compose([transforms.ToTensor()])\n",
        "\n",
        "trainset = torchvision.datasets.MNIST(root=\"../../data\", train=True,\n",
        "                                      download=True, transform=transform)\n",
        "testset = torchvision.datasets.MNIST(root=\"../../data\", train=False,\n",
        "                                     download=True, transform=transform)\n",
        "\n",
        "# create data loader\n",
        "train_loader = torch.utils.data.DataLoader(trainset, batch_size=batch_size,\n",
        "                                           shuffle=True, num_workers=2)\n",
        "test_loader = torch.utils.data.DataLoader(testset, batch_size=batch_size,\n",
        "                                          shuffle=True, num_workers=2)\n",
        "\n",
        "# define fully connected neural network with one hidden layer\n",
        "class Network(nn.Module):\n",
        "  def __init__(self):\n",
        "    super(Network, self).__init__()\n",
        "    self.fc1 = nn.Linear(input_size, hidden_size)\n",
        "    self.fc2 = nn.Linear(hidden_size, num_classes)\n",
        "    self.relu = nn.ReLU()\n",
        "\n",
        "  def forward(self, x):\n",
        "    x = self.fc1(x)\n",
        "    x = self.relu(x)\n",
        "    x = self.fc2(x)\n",
        "\n",
        "    return x\n",
        "\n",
        "model = Network().to(device='cuda')\n",
        "\n",
        "# define loss and optimizer (crossentropy loss and adam)\n",
        "criterion = nn.CrossEntropyLoss()\n",
        "optimizer = torch.optim.Adam(model.parameters(), lr=learning_rate)\n",
        "\n",
        "# train the model\n",
        "for e in range(num_epochs):\n",
        "  for i, (images, labels) in enumerate(train_loader):\n",
        "    images = images.view(-1, input_size)\n",
        "\n",
        "  # move tensors to the configuration device\n",
        "    images, labels = images.to(device), labels.to(device)\n",
        "\n",
        "  # forward pass\n",
        "    outputs = model(images)\n",
        "    loss = criterion(outputs, labels)\n",
        "\n",
        "  # backward and optimize\n",
        "    optimizer.zero_grad()\n",
        "    loss.backward()\n",
        "    optimizer.step()\n",
        "\n",
        "    if (i+1)%100 == 0:\n",
        "      print(\"Epock {}/{}. Training loss is {}\".format(e+1, num_epochs, loss.item()))\n",
        "\n",
        "\n",
        "# test the model\n",
        "correct, total = 0, 0\n",
        "with torch.no_grad():\n",
        "  for images, labels in test_loader:\n",
        "    images = images.view(-1, input_size)\n",
        "    images, labels = images.to(device), labels.to(device)\n",
        "    outputs = model(images)\n",
        "    _, pred = torch.max(outputs, 1)\n",
        "    correct += (pred==labels).sum()\n",
        "\n",
        "  print(\"Accuracy is {}\".format(correct/len(test_loader)))\n",
        "\n",
        "# save te model checkpoints\n",
        "torch.save(model.state_dict(), \"params.ckpt\")"
      ],
      "metadata": {
        "id": "VxS0n4zIKbAM",
        "colab": {
          "base_uri": "https://localhost:8080/"
        },
        "outputId": "34304eb7-5bd9-444f-f545-f08afb765de6"
      },
      "execution_count": null,
      "outputs": [
        {
          "output_type": "stream",
          "name": "stdout",
          "text": [
            "Epock 1/5. Training loss is 0.22375966608524323\n",
            "Epock 1/5. Training loss is 0.20659659802913666\n",
            "Epock 1/5. Training loss is 0.25422823429107666\n",
            "Epock 1/5. Training loss is 0.17503780126571655\n",
            "Epock 1/5. Training loss is 0.28988024592399597\n",
            "Epock 1/5. Training loss is 0.1087629422545433\n",
            "Epock 2/5. Training loss is 0.08808697015047073\n",
            "Epock 2/5. Training loss is 0.09037783741950989\n",
            "Epock 2/5. Training loss is 0.09262565523386002\n",
            "Epock 2/5. Training loss is 0.08760622143745422\n",
            "Epock 2/5. Training loss is 0.0374794565141201\n",
            "Epock 2/5. Training loss is 0.059994131326675415\n",
            "Epock 3/5. Training loss is 0.04494530335068703\n",
            "Epock 3/5. Training loss is 0.0442412868142128\n",
            "Epock 3/5. Training loss is 0.11068394035100937\n",
            "Epock 3/5. Training loss is 0.08029591292142868\n",
            "Epock 3/5. Training loss is 0.06562966853380203\n",
            "Epock 3/5. Training loss is 0.025457723066210747\n",
            "Epock 4/5. Training loss is 0.06497196108102798\n",
            "Epock 4/5. Training loss is 0.043897200375795364\n",
            "Epock 4/5. Training loss is 0.1004461944103241\n",
            "Epock 4/5. Training loss is 0.07828444242477417\n",
            "Epock 4/5. Training loss is 0.03742974251508713\n",
            "Epock 4/5. Training loss is 0.051808301359415054\n",
            "Epock 5/5. Training loss is 0.014264430850744247\n",
            "Epock 5/5. Training loss is 0.0180745180696249\n",
            "Epock 5/5. Training loss is 0.14311140775680542\n",
            "Epock 5/5. Training loss is 0.07381971180438995\n",
            "Epock 5/5. Training loss is 0.030997678637504578\n",
            "Epock 5/5. Training loss is 0.05900483950972557\n",
            "Accuracy is 97.55999755859375\n"
          ]
        }
      ]
    }
  ]
}