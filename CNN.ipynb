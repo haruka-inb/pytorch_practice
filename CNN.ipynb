{
  "nbformat": 4,
  "nbformat_minor": 0,
  "metadata": {
    "colab": {
      "provenance": [],
      "authorship_tag": "ABX9TyMGebURN9ugB27YJrl5LKVd",
      "include_colab_link": true
    },
    "kernelspec": {
      "name": "python3",
      "display_name": "Python 3"
    },
    "language_info": {
      "name": "python"
    }
  },
  "cells": [
    {
      "cell_type": "markdown",
      "metadata": {
        "id": "view-in-github",
        "colab_type": "text"
      },
      "source": [
        "<a href=\"https://colab.research.google.com/github/haruka-inb/pytorch_practice/blob/main/CNN.ipynb\" target=\"_parent\"><img src=\"https://colab.research.google.com/assets/colab-badge.svg\" alt=\"Open In Colab\"/></a>"
      ]
    },
    {
      "cell_type": "markdown",
      "source": [
        "# CNN"
      ],
      "metadata": {
        "id": "8t2trvZB7tKV"
      }
    },
    {
      "cell_type": "code",
      "execution_count": null,
      "metadata": {
        "id": "ZXq4Tfjm_NSC"
      },
      "outputs": [],
      "source": [
        "import torch\n",
        "import torch.nn as nn\n",
        "import torchvision\n",
        "import torchvision.transforms as transforms"
      ]
    },
    {
      "cell_type": "code",
      "source": [
        "# device configuration\n",
        "device = torch.device('cuda' if torch.cuda.is_available() else 'cpu')\n",
        "\n",
        "# define hyper parameters\n",
        "num_epochs = 5\n",
        "num_classes = 10\n",
        "batch_size = 100\n",
        "learning_rate = 0.001\n",
        "\n",
        "# load MNIST dataset\n",
        "transform = transforms.Compose([transforms.ToTensor()])\n",
        "\n",
        "trainset = torchvision.datasets.MNIST(root='/../../data', train=True,\n",
        "                                      download=True, transform=transform)\n",
        "testset = torchvision.datasets.MNIST(root='/../../data', train=False,\n",
        "                                     download=True, transform=transform)\n",
        "\n",
        "# create data loader\n",
        "train_loader = torch.utils.data.DataLoader(trainset, batch_size=batch_size,\n",
        "                                           shuffle=True, num_workers=2)\n",
        "test_loader = torch.utils.data.DataLoader(testset, batch_size=batch_size,\n",
        "                                          shuffle=False, num_workers=2)\n",
        "\n",
        "# CNN ((conv->bacthnorm->relu->maxpool)*2 -> 1 fc)\n",
        "class CNN(nn.Module):\n",
        "  def __init__(self):\n",
        "    super(CNN, self).__init__()\n",
        "    self.layer1 = nn.Sequential(\n",
        "        nn.Conv2d(1, 16, kernel_size=5, stride=1, padding=2),\n",
        "        nn.BatchNorm2d(16),\n",
        "        nn.ReLU(),\n",
        "        nn.MaxPool2d(kernel_size=2, stride=2)\n",
        "    )\n",
        "    self.layer2 = nn.Sequential(\n",
        "        nn.Conv2d(16, 32, kernel_size=5, stride=1, padding=2),\n",
        "        nn.BatchNorm2d(32),\n",
        "        nn.ReLU(),\n",
        "        nn.MaxPool2d(kernel_size=2, stride=2)\n",
        "    )\n",
        "    self.fc = nn.Linear(7*7*32, num_classes)\n",
        "\n",
        "  def forward(self, x):\n",
        "    out = self.layer1(x)\n",
        "    out = self.layer2(out)\n",
        "    out = out.view(out.size(0), -1)\n",
        "    out = self.fc(out)\n",
        "\n",
        "    return out\n",
        "\n",
        "model = CNN().to(device)\n",
        "\n",
        "# load optimizer (crossentropy & adam)\n",
        "criteria = nn.CrossEntropyLoss()\n",
        "optimizer = torch.optim.Adam(model.parameters(), lr=learning_rate)\n",
        "\n",
        "\n",
        "# train the model\n",
        "for e in range(num_epochs):\n",
        "  for i, (images, labels) in enumerate(train_loader):\n",
        "    images, labels = images.to(device), labels.to(device)\n",
        "\n",
        "  # forward pass\n",
        "    outputs = model(images)\n",
        "    loss = criteria(outputs, labels)\n",
        "\n",
        "  # backward and optimize\n",
        "    optimizer.zero_grad()\n",
        "    loss.backward()\n",
        "    optimizer.step()\n",
        "\n",
        "    if (i+1) % 100 == 0:\n",
        "      print(\"Epoch {}/{}, Steps {}/{} training loss is {}\"\n",
        "      .format(e+1, num_epochs, i+1, len(train_loader), loss))\n",
        "\n",
        "# test the model\n",
        "correct, total = 0, 0\n",
        "model.eval()\n",
        "with torch.no_grad():\n",
        "  for images, labels in test_loader:\n",
        "    images, labels = images.to(device), labels.to(device)\n",
        "    outputs = model(images)\n",
        "    _, pred = torch.max(outputs, 1)\n",
        "    correct += (pred == labels).sum().item()\n",
        "    total += labels.size(0)\n",
        "\n",
        "  print(\"Accuracy is {} %\".format(100 * correct / total))\n",
        "\n",
        "# save the model checkpoint\n",
        "torch.save(model.state_dict(), \"params.ckpt\")"
      ],
      "metadata": {
        "id": "HD7h2cme_U9I",
        "colab": {
          "base_uri": "https://localhost:8080/"
        },
        "outputId": "f752c967-454a-4d3b-f4be-0f88d2df2f91"
      },
      "execution_count": null,
      "outputs": [
        {
          "output_type": "stream",
          "name": "stdout",
          "text": [
            "Epoch 1/5, Steps 100/600 training loss is 0.08170472085475922\n",
            "Epoch 1/5, Steps 200/600 training loss is 0.12109977006912231\n",
            "Epoch 1/5, Steps 300/600 training loss is 0.050953902304172516\n",
            "Epoch 1/5, Steps 400/600 training loss is 0.05219012871384621\n",
            "Epoch 1/5, Steps 500/600 training loss is 0.10555092990398407\n",
            "Epoch 1/5, Steps 600/600 training loss is 0.015571954660117626\n",
            "Epoch 2/5, Steps 100/600 training loss is 0.1340479999780655\n",
            "Epoch 2/5, Steps 200/600 training loss is 0.06178664043545723\n",
            "Epoch 2/5, Steps 300/600 training loss is 0.037592168897390366\n",
            "Epoch 2/5, Steps 400/600 training loss is 0.05069528520107269\n",
            "Epoch 2/5, Steps 500/600 training loss is 0.01450662687420845\n",
            "Epoch 2/5, Steps 600/600 training loss is 0.005234688986092806\n",
            "Epoch 3/5, Steps 100/600 training loss is 0.01827274262905121\n",
            "Epoch 3/5, Steps 200/600 training loss is 0.10132969170808792\n",
            "Epoch 3/5, Steps 300/600 training loss is 0.03023228421807289\n",
            "Epoch 3/5, Steps 400/600 training loss is 0.01418400276452303\n",
            "Epoch 3/5, Steps 500/600 training loss is 0.035354603081941605\n",
            "Epoch 3/5, Steps 600/600 training loss is 0.0667538270354271\n",
            "Epoch 4/5, Steps 100/600 training loss is 0.0048120529390871525\n",
            "Epoch 4/5, Steps 200/600 training loss is 0.02875412255525589\n",
            "Epoch 4/5, Steps 300/600 training loss is 0.04062577337026596\n",
            "Epoch 4/5, Steps 400/600 training loss is 0.12967152893543243\n",
            "Epoch 4/5, Steps 500/600 training loss is 0.00927199050784111\n",
            "Epoch 4/5, Steps 600/600 training loss is 0.006682740990072489\n",
            "Epoch 5/5, Steps 100/600 training loss is 0.00448980089277029\n",
            "Epoch 5/5, Steps 200/600 training loss is 0.012177902273833752\n",
            "Epoch 5/5, Steps 300/600 training loss is 0.016539037227630615\n",
            "Epoch 5/5, Steps 400/600 training loss is 0.004145169164985418\n",
            "Epoch 5/5, Steps 500/600 training loss is 0.0030743598472326994\n",
            "Epoch 5/5, Steps 600/600 training loss is 0.05786430835723877\n",
            "Accuracy is 99.0 %\n"
          ]
        }
      ]
    }
  ]
}